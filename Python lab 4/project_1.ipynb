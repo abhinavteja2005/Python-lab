{
 "cells": [
  {
   "cell_type": "markdown",
   "metadata": {},
   "source": [
    "Project 1: Classification of Iris Flowers\n",
    "Input: Iris.csv data set\n",
    "Project: Building different classification models, validation and performance\n",
    "evaluation of models"
   ]
  },
  {
   "cell_type": "markdown",
   "metadata": {},
   "source": [
    "Step 1: Import all necessary libraries\n",
    "    The following libraries to be imported in this project:\n",
    "    pandas: Used to read and manipulate CSV data.\n",
    "    Numpy: For fast and efficient processing of data\n",
    "    sklearn.dataset: To load data from the Sci-Kit-Learn repository\n",
    "    sklearn.train_test_split: From scikit-learn, used to split data into training and testing sets.\n",
    "    sklearn.preprocessing: For feature scaling/normalization\n",
    "    sklearn.LogisticRegression: A common classification algorithm from scikit-learn.\n",
    "    sklearn.SVC: Support Vector Machine Classifier\n",
    "    sklearn.RandomeForest: Random Forest Classification\n",
    "    sklearn.KNeighborsClassifier: k-Nearest Neighbour classifier\n",
    "    sklearn.DecissionTreeClassifier: Decision Tree Classifier\n",
    "    sklearn.MLPClassifier: Multi-Layer Perceptron classifier\n",
    "    sklearn.GradientBoostingClassifier: Gradient Boosting classifier\n",
    "    sklearn.accuracy_score: To calculate model accuracy."
   ]
  },
  {
   "cell_type": "code",
   "execution_count": 2,
   "metadata": {},
   "outputs": [
    {
     "name": "stdout",
     "output_type": "stream",
     "text": [
      "<class 'pandas.core.frame.DataFrame'>\n",
      "RangeIndex: 150 entries, 0 to 149\n",
      "Data columns (total 5 columns):\n",
      " #   Column             Non-Null Count  Dtype  \n",
      "---  ------             --------------  -----  \n",
      " 0   sepal length (cm)  150 non-null    float64\n",
      " 1   sepal width (cm)   150 non-null    float64\n",
      " 2   petal length (cm)  150 non-null    float64\n",
      " 3   petal width (cm)   150 non-null    float64\n",
      " 4   target             150 non-null    int32  \n",
      "dtypes: float64(4), int32(1)\n",
      "memory usage: 5.4 KB\n",
      "None\n"
     ]
    }
   ],
   "source": [
    "import pandas as pd\n",
    "import numpy as np\n",
    "from sklearn.datasets import load_iris\n",
    "# Step 1: Load the Iris dataset (it is a classic builtin dataset)\n",
    "iris = load_iris()\n",
    "data = pd.DataFrame(data=iris.data, columns=iris.feature_names)\n",
    "data['target'] = iris.target\n",
    "# Download the data from \"Iris.csv\"   locally             \n",
    "X, y = iris.data, iris.target        \n",
    "# Convert to DataFrame for better processing\n",
    "df = pd.DataFrame(data=X, columns=iris.feature_names)\n",
    "df['target'] = y\n",
    "# Preview the dataset: It is required as a customary step!\n",
    "#print(\"Top 5 rows of the dataset:\")\n",
    "#print(df.head())\n",
    "#print(\"Bottom 5 rows of the dataset:\")\n",
    "#print(df.tail())\n",
    "#print(\"The columns present in the data frame\n",
    "#print(df.columns)\n",
    "#print(\"The information about the attributes\n",
    "print(df.info())\n",
    "#print(\"To check if the null entries are there\")\n",
    "#print(df.isnull())\n",
    "#print(\"The statistical information about the data\")\n",
    "# print(df.describe())"
   ]
  },
  {
   "cell_type": "markdown",
   "metadata": {},
   "source": [
    "Step 2: Split the data set into two parts: \"Training set\" and \"Test set\"\n",
    "The following library is used\n",
    "    import train_test_split from sklearn.model_selection\n",
    "    \"Training set\" is used to train a model and \"Test set\" is used to test a model"
   ]
  },
  {
   "cell_type": "code",
   "execution_count": 24,
   "metadata": {},
   "outputs": [
    {
     "name": "stdout",
     "output_type": "stream",
     "text": [
      "Import of \"Train-Test-Split-Selection\" library is successful\n",
      "\n",
      "Train and test data shapes:\n",
      "X_train: (100, 4) X_test: (50, 4)\n"
     ]
    }
   ],
   "source": [
    "from sklearn.model_selection import train_test_split\n",
    "print(\"Import of \\\"Train-Test-Split-Selection\\\" library is successful\")\n",
    "\n",
    "# Split the dataset into training and testing sets: 67% for training and 33% for testing\n",
    "X_train, X_test, y_train, y_test = train_test_split(X, y, test_size=0.33, train_size=0.67, random_state=42)\n",
    "\n",
    "# Note 1: Data (i.e., Data-attributes and Target-column) are kept as separate variables (X for features, y for target labels)\n",
    "# Note 2: Here, random_state=42 is chosen as a seed value and popularly used for reproducibility in experiments\n",
    "\n",
    "print(\"\\nTrain and test data shapes:\")\n",
    "print(\"X_train:\", X_train.shape, \"X_test:\", X_test.shape)\n"
   ]
  },
  {
   "cell_type": "markdown",
   "metadata": {},
   "source": [
    "Step 3: Preprocessing\n",
    "    (a)Handling null-entries, if applicable\n",
    "    (b) Scaling (to put all values in a normalize scale)\n",
    "        \n",
    "        For scaling there are many methods: StandardScalar, MinMaxScalar, Normalizer, PolynomialFeatures, etc. Use any one."
   ]
  },
  {
   "cell_type": "code",
   "execution_count": null,
   "metadata": {},
   "outputs": [
    {
     "name": "stdout",
     "output_type": "stream",
     "text": [
      "Normalized training dataset...\n",
      "\n",
      "[[-1.72849788  0.40824829]\n",
      " [-0.83223972  0.81649658]\n",
      " [-0.38411064  1.63299316]\n",
      " [ 0.06401844 -1.63299316]\n",
      " [ 0.51214752 -0.81649658]\n",
      " [ 0.9602766  -0.40824829]\n",
      " [ 1.40840568  0.        ]]\n",
      "\n",
      "Normalized testing dataset...\n",
      "\n",
      "[[-1.13554995  1.33630621]\n",
      " [ 1.29777137 -0.26726124]\n",
      " [-0.16222142 -1.06904497]]\n"
     ]
    }
   ],
   "source": [
    "from sklearn.preprocessing import StandardScaler\n",
    "\n",
    "### Tutorial to learn the basics of scalar-based normalization\n",
    "\n",
    "# Create a DataFrame for training data\n",
    "data1 = {'A': [2, 4, 5, 6, 7, 8, 9], 'B': [60, 70, 90, 10, 30, 40, 50]}\n",
    "# Create a DataFrame for testing data\n",
    "data2 = {'A': [1, 6, 3], 'B': [80, 40, 20]}\n",
    "\n",
    "# Convert dictionaries to pandas DataFrame\n",
    "X_train_ = pd.DataFrame(data1)\n",
    "X_test_ = pd.DataFrame(data2)\n",
    "\n",
    "# Create a StandardScaler object for normalization\n",
    "scaler = StandardScaler()\n",
    "\n",
    "# Fit and transform the training data (learn scaling parameters from training data)\n",
    "X_train_scaled_ = scaler.fit_transform(X_train_)\n",
    "print(\"Normalized training dataset...\\n\")\n",
    "print(X_train_scaled_)  # Using print instead of display() for general compatibility\n",
    "\n",
    "# Transform the testing data using the parameters already learned from training data\n",
    "X_test_scaled_ = scaler.transform(X_test_)  # Corrected from fit_transform() to transform() #### in Tutorial fit_transform() is used, but gpt suggests transform()\n",
    "print(\"\\nNormalized testing dataset...\\n\")\n",
    "print(X_test_scaled_)  # Using print instead of display()"
   ]
  },
  {
   "cell_type": "code",
   "execution_count": 25,
   "metadata": {},
   "outputs": [
    {
     "name": "stdout",
     "output_type": "stream",
     "text": [
      "Standard Scaled Data (First 5 rows):\n",
      " [[-0.13835603 -0.26550845  0.22229072  0.10894943]\n",
      " [ 2.14752625 -0.02631165  1.61160773  1.18499319]\n",
      " [-0.25866563 -0.02631165  0.39595535  0.37796037]\n",
      " [-0.8602136   1.16967238 -1.39857913 -1.37061074]\n",
      " [ 2.26783585 -0.50470526  1.66949594  1.05048772]]\n",
      "\n",
      "Min-Max Scaled Data (First 5 rows):\n",
      " [[0.41176471 0.40909091 0.55357143 0.5       ]\n",
      " [0.97058824 0.45454545 0.98214286 0.83333333]\n",
      " [0.38235294 0.45454545 0.60714286 0.58333333]\n",
      " [0.23529412 0.68181818 0.05357143 0.04166667]\n",
      " [1.         0.36363636 1.         0.79166667]]\n",
      "\n",
      "Normalized Data (First 5 rows):\n",
      " [[0.73446047 0.37367287 0.5411814  0.16750853]\n",
      " [0.70953708 0.28008043 0.61617694 0.1960563 ]\n",
      " [0.70631892 0.37838513 0.5675777  0.18919257]\n",
      " [0.80377277 0.55160877 0.22064351 0.0315205 ]\n",
      " [0.71486543 0.25995106 0.62202576 0.18567933]]\n",
      "\n",
      "Polynomial Features (First 5 rows):\n",
      " [[5.700e+00 2.900e+00 4.200e+00 1.300e+00 3.249e+01 1.653e+01 2.394e+01\n",
      "  7.410e+00 8.410e+00 1.218e+01 3.770e+00 1.764e+01 5.460e+00 1.690e+00]\n",
      " [7.600e+00 3.000e+00 6.600e+00 2.100e+00 5.776e+01 2.280e+01 5.016e+01\n",
      "  1.596e+01 9.000e+00 1.980e+01 6.300e+00 4.356e+01 1.386e+01 4.410e+00]\n",
      " [5.600e+00 3.000e+00 4.500e+00 1.500e+00 3.136e+01 1.680e+01 2.520e+01\n",
      "  8.400e+00 9.000e+00 1.350e+01 4.500e+00 2.025e+01 6.750e+00 2.250e+00]\n",
      " [5.100e+00 3.500e+00 1.400e+00 2.000e-01 2.601e+01 1.785e+01 7.140e+00\n",
      "  1.020e+00 1.225e+01 4.900e+00 7.000e-01 1.960e+00 2.800e-01 4.000e-02]\n",
      " [7.700e+00 2.800e+00 6.700e+00 2.000e+00 5.929e+01 2.156e+01 5.159e+01\n",
      "  1.540e+01 7.840e+00 1.876e+01 5.600e+00 4.489e+01 1.340e+01 4.000e+00]]\n"
     ]
    }
   ],
   "source": [
    "# Handling missing values: There are no missing values\n",
    "\n",
    "# Normalization of training and testing data\n",
    "\n",
    "'''\n",
    "Note: For normalization, sklearn provides two methods: fit_transform() and transform().\n",
    "    - fit_transform() is applied to training data, whereas transform() is applied to testing data.\n",
    "    - fit_transform() is a combination of:\n",
    "    - fit(): To calculate the necessary transformation parameters based on the training data (e.g., min, max, mean, standard deviation).\n",
    "    - transform(): To apply the transformation to the data using the parameters learned from the training data.\n",
    "    - The two methods are applicable to all normalization methods defined in sklearn.\n",
    "'''\n",
    "\n",
    "# Import scaling methods for normalization\n",
    "from sklearn.preprocessing import StandardScaler, MinMaxScaler, Normalizer, PolynomialFeatures\n",
    "\n",
    "# Standard Scaling (Standardization)\n",
    "scaler = StandardScaler()  # Create a StandardScaler object\n",
    "X_train_scaled = scaler.fit_transform(X_train)  # Fit and transform the training data\n",
    "X_test_scaled = scaler.transform(X_test)  # Apply transform() to test data using learned parameters\n",
    "print(\"Standard Scaled Data (First 5 rows):\\n\", X_train_scaled[:5])  # Show first 5 rows\n",
    "\n",
    "# Min-Max Scaling (Normalization to range [0,1])\n",
    "minmax_scaler = MinMaxScaler()  # Create a MinMaxScaler object\n",
    "X_train_minmax = minmax_scaler.fit_transform(X_train)  # Fit and transform the training data\n",
    "X_test_minmax = minmax_scaler.transform(X_test)  # Apply transform() to test data using learned parameters\n",
    "print(\"\\nMin-Max Scaled Data (First 5 rows):\\n\", X_train_minmax[:5])  # Show first 5 rows\n",
    "\n",
    "# L2 Normalization (Scaling each row to unit norm)\n",
    "normalizer = Normalizer()  # Create a Normalizer object\n",
    "X_train_normalized = normalizer.fit_transform(X_train)  # Fit and transform the training data\n",
    "X_test_normalized = normalizer.transform(X_test)  # Apply transform() to test data using learned parameters\n",
    "print(\"\\nNormalized Data (First 5 rows):\\n\", X_train_normalized[:5])  # Show first 5 rows\n",
    "\n",
    "# Polynomial Feature Transformation (Expanding features up to the given degree)\n",
    "poly = PolynomialFeatures(degree=2, include_bias=False)  # Create a PolynomialFeatures object (degree=2)\n",
    "X_train_poly = poly.fit_transform(X_train)  # Fit and transform the training data\n",
    "X_test_poly = poly.transform(X_test)  # Apply transform() to test data using learned parameters\n",
    "print(\"\\nPolynomial Features (First 5 rows):\\n\", X_train_poly[:5])  # Show first 5 rows\n"
   ]
  },
  {
   "cell_type": "markdown",
   "metadata": {},
   "source": [
    "Step 4: Dimensionality reduction\n",
    "There are several methods defined in sklearn:\n",
    "\n",
    "PCA (Principal Component Analysis), IDA (Independent Component Analysis),\n",
    "LDA (Linear Discrimnant Analysis), NMF (Non-negative Matrix Factorization), SVD (Singular Value Decomposition), etc. are a few popular dimensionality reduction techniques\n",
    "\n",
    "This project follows PCA\n",
    "Note: Dimnsionality reduction method is optional and does not necessarily yield\n",
    "good results"
   ]
  },
  {
   "cell_type": "code",
   "execution_count": 26,
   "metadata": {},
   "outputs": [
    {
     "name": "stdout",
     "output_type": "stream",
     "text": [
      "\n",
      "PCA Reduced Training data shape (2 components): (100, 2)\n",
      "\n",
      "PCA Reduced Testing data shape (2 components): (50, 2)\n"
     ]
    }
   ],
   "source": [
    "# Using PCA for dimensionality reduction\n",
    "from sklearn.decomposition import PCA\n",
    "\n",
    "pca = PCA(n_components=2)\n",
    "X_train_pca = pca.fit_transform(X_train_scaled)\n",
    "X_test_pca = pca.transform(X_test_scaled)\n",
    "\n",
    "# Display PCA results\n",
    "print(\"\\nPCA Reduced Training data shape (2 components):\", X_train_pca.shape)\n",
    "print(\"\\nPCA Reduced Testing data shape (2 components):\", X_test_pca.shape)\n"
   ]
  },
  {
   "cell_type": "markdown",
   "metadata": {},
   "source": [
    "Step 5: Building Classification Models\n",
    "There are several ML algorithms that can be followed to build classification models. In this project, we shall follow the\n",
    "following ML algorithms followed by the performance evaluation of each.\n",
    "    Support Vector Machine (SVM) classifier\n",
    "    Random Forest classifier\n",
    "    Decision Tree classifier\n",
    "    Logistic Regression classifier\n",
    "    XGBoost classifier\n",
    "    Gradient boosting classifier"
   ]
  },
  {
   "cell_type": "code",
   "execution_count": 27,
   "metadata": {},
   "outputs": [
    {
     "name": "stdout",
     "output_type": "stream",
     "text": [
      "\n",
      "SVM Predictions (First 10): [1 0 2 1 1 0 1 2 1 1]\n",
      "\n",
      "SVM Accuracy: 0.98\n",
      "\n",
      "Classification Report:\n",
      "               precision    recall  f1-score   support\n",
      "\n",
      "           0       1.00      1.00      1.00        19\n",
      "           1       0.94      1.00      0.97        15\n",
      "           2       1.00      0.94      0.97        16\n",
      "\n",
      "    accuracy                           0.98        50\n",
      "   macro avg       0.98      0.98      0.98        50\n",
      "weighted avg       0.98      0.98      0.98        50\n",
      "\n"
     ]
    }
   ],
   "source": [
    "# Import SVM from sklearn package\n",
    "from sklearn.svm import SVC  # Import Support Vector Machine (SVM) classifier\n",
    "from sklearn.metrics import accuracy_score, classification_report\n",
    "\n",
    "# Initialize the classification model\n",
    "svm_model = SVC()  \n",
    "\n",
    "# Train the model using the training dataset\n",
    "svm_model.fit(X_train_scaled, y_train)      \n",
    "\n",
    "# Make predictions on the test set\n",
    "svm_predictions = svm_model.predict(X_test_scaled)  \n",
    "\n",
    "# Display predictions\n",
    "print(\"\\nSVM Predictions (First 10):\", svm_predictions[:10])\n",
    "\n",
    "# Evaluate the model\n",
    "svm_accuracy = accuracy_score(y_test, svm_predictions)\n",
    "svm_report = classification_report(y_test, svm_predictions)\n",
    "\n",
    "print(\"\\nSVM Accuracy:\", svm_accuracy)\n",
    "print(\"\\nClassification Report:\\n\", svm_report)\n"
   ]
  },
  {
   "cell_type": "markdown",
   "metadata": {},
   "source": [
    "Evaluation of the performance of SVM classifier\n",
    "    Evaluation with the simple validation method"
   ]
  },
  {
   "cell_type": "code",
   "execution_count": 28,
   "metadata": {},
   "outputs": [
    {
     "name": "stdout",
     "output_type": "stream",
     "text": [
      "Import of packages for performance evaluation is successful\n",
      "\n"
     ]
    },
    {
     "data": {
      "image/png": "[encoded data removed]",
      "text/plain": [
       "<Figure size 500x400 with 2 Axes>"
      ]
     },
     "metadata": {},
     "output_type": "display_data"
    },
    {
     "name": "stdout",
     "output_type": "stream",
     "text": [
      "\n",
      "Accuracy: 0.98\n",
      "\n",
      "Precision: 0.98125\n",
      "\n",
      "Recall: 0.98\n",
      "\n",
      "F1 Score: 0.98\n",
      "\n",
      "Specificity: 0.9904761904761905\n",
      "\n",
      "SVM Classification Report:\n",
      "               precision    recall  f1-score   support\n",
      "\n",
      "           0       1.00      1.00      1.00        19\n",
      "           1       0.94      1.00      0.97        15\n",
      "           2       1.00      0.94      0.97        16\n",
      "\n",
      "    accuracy                           0.98        50\n",
      "   macro avg       0.98      0.98      0.98        50\n",
      "weighted avg       0.98      0.98      0.98        50\n",
      "\n",
      "\n",
      "Classification with SVM is complete!\n"
     ]
    }
   ],
   "source": [
    "# Import evaluation metrics\n",
    "from sklearn.metrics import confusion_matrix, accuracy_score, precision_score, recall_score, f1_score, roc_auc_score, classification_report\n",
    "import seaborn as sns                      # Data visualization\n",
    "import matplotlib.pyplot as plt            # Graph plotting\n",
    "import numpy as np                         # Numerical operations\n",
    "\n",
    "print(\"Import of packages for performance evaluation is successful\\n\")\n",
    "\n",
    "# Define function to plot a confusion matrix\n",
    "def plot_confusion_matrix(y_true, y_pred, title=\"Confusion Matrix\"):\n",
    "    conf_matrix = confusion_matrix(y_true, y_pred)  # Compute confusion matrix\n",
    "    plt.figure(figsize=(5, 4))\n",
    "    sns.heatmap(conf_matrix, annot=True, fmt='d', cmap='Blues', xticklabels=np.unique(y_true), yticklabels=np.unique(y_true))\n",
    "    plt.xlabel('Predicted Labels')\n",
    "    plt.ylabel('True Labels')\n",
    "    plt.title(title)\n",
    "    plt.show()\n",
    "\n",
    "# Plot confusion matrix\n",
    "plot_confusion_matrix(y_test, svm_predictions, \"SVM Confusion Matrix\")\n",
    "\n",
    "# Accuracy: (TP+TN)/(TP+TN+FP+FN)\n",
    "svm_accuracy = accuracy_score(y_test, svm_predictions)\n",
    "print(\"\\nAccuracy:\", svm_accuracy)\n",
    "\n",
    "# Precision: TP / (TP + FP)\n",
    "svm_precision = precision_score(y_test, svm_predictions, average=\"weighted\")\n",
    "print(\"\\nPrecision:\", svm_precision)\n",
    "\n",
    "# Recall: TP / (TP + FN)\n",
    "svm_recall = recall_score(y_test, svm_predictions, average=\"weighted\")\n",
    "print(\"\\nRecall:\", svm_recall)\n",
    "\n",
    "# F1-score: Harmonic mean of Precision and Recall\n",
    "svm_f1 = f1_score(y_test, svm_predictions, average=\"weighted\")\n",
    "print(\"\\nF1 Score:\", svm_f1)\n",
    "\n",
    "# Specificity calculation\n",
    "cm = confusion_matrix(y_test, svm_predictions)\n",
    "specificity = []\n",
    "for i in range(len(cm)):\n",
    "    tn = np.sum(cm) - np.sum(cm[i, :]) - np.sum(cm[:, i]) + cm[i, i]\n",
    "    fp = np.sum(cm[:, i]) - cm[i, i]\n",
    "    specificity.append(tn / (tn + fp))\n",
    "svm_specificity = np.mean(specificity)\n",
    "print(\"\\nSpecificity:\", svm_specificity)\n",
    "\n",
    "# Classification Report\n",
    "print(\"\\nSVM Classification Report:\\n\", classification_report(y_test, svm_predictions))\n",
    "\n",
    "print(\"\\nClassification with SVM is complete!\")\n"
   ]
  },
  {
   "cell_type": "markdown",
   "metadata": {},
   "source": [
    "Random Forest classifier\n",
    "Building model with Random Forest classifier"
   ]
  },
  {
   "cell_type": "code",
   "execution_count": 29,
   "metadata": {},
   "outputs": [
    {
     "name": "stdout",
     "output_type": "stream",
     "text": [
      "\n",
      "Random Forest Predictions (First 10): [1 0 2 1 1 0 1 2 1 1]\n"
     ]
    }
   ],
   "source": [
    "# Import Random Forest from sklearn package\n",
    "from sklearn.ensemble import RandomForestClassifier\n",
    "\n",
    "# Initialize Random Forest Classifier\n",
    "rf_model = RandomForestClassifier(random_state=42)\n",
    "\n",
    "# Train the model\n",
    "rf_model.fit(X_train_scaled, y_train)\n",
    "\n",
    "# Get predictions\n",
    "rf_predictions = rf_model.predict(X_test_scaled)  # Corrected model reference\n",
    "y_pred = rf_predictions \n",
    "# Display first 10 predictions\n",
    "print(\"\\nRandom Forest Predictions (First 10):\", rf_predictions[:10])\n"
   ]
  },
  {
   "cell_type": "markdown",
   "metadata": {},
   "source": [
    "Evaluation of the performance of Random Forest classifier\n",
    "Evaluation with the simple validation method"
   ]
  },
  {
   "cell_type": "code",
   "execution_count": 30,
   "metadata": {},
   "outputs": [
    {
     "data": {
      "image/png": "[encoded data removed]",
      "text/plain": [
       "<Figure size 500x400 with 2 Axes>"
      ]
     },
     "metadata": {},
     "output_type": "display_data"
    },
    {
     "name": "stdout",
     "output_type": "stream",
     "text": [
      "\n",
      "Accuracy: 0.98\n",
      "\n",
      "Precision:  0.98125\n",
      "\n",
      "Recall:  0.98\n",
      "\n",
      "F1 score:  0.98\n",
      "\n",
      "Specificity:  0.9904761904761905\n",
      "\n",
      "Random Forest Classification Report:\n",
      "               precision    recall  f1-score   support\n",
      "\n",
      "           0       1.00      1.00      1.00        19\n",
      "           1       0.94      1.00      0.97        15\n",
      "           2       1.00      0.94      0.97        16\n",
      "\n",
      "    accuracy                           0.98        50\n",
      "   macro avg       0.98      0.98      0.98        50\n",
      "weighted avg       0.98      0.98      0.98        50\n",
      "\n",
      "Classification with Random Forest is done!\n"
     ]
    }
   ],
   "source": [
    "# Import evaluation metrics\n",
    "from sklearn.metrics import confusion_matrix, accuracy_score, precision_score, recall_score, f1_score, classification_report\n",
    "import numpy as np\n",
    "\n",
    "# Plot confusion matrix\n",
    "plot_confusion_matrix(y_test, y_pred, \"Random Forest Confusion Matrix\")\n",
    "\n",
    "# Accuracy: (TP+TN) / (TP+TN+FP+FN)\n",
    "rf_accuracy = accuracy_score(y_test, y_pred)\n",
    "print(\"\\nAccuracy:\", rf_accuracy)\n",
    "\n",
    "# Precision: TP / (TP+FP)\n",
    "rf_precision = precision_score(y_test, y_pred, average=\"weighted\")\n",
    "print(\"\\nPrecision: \", rf_precision)\n",
    "\n",
    "# Recall: TP / (TP+FN)\n",
    "rf_recall = recall_score(y_test, y_pred, average=\"weighted\")\n",
    "print(\"\\nRecall: \", rf_recall)\n",
    "\n",
    "# F1-score: Harmonic mean of Precision and Recall\n",
    "rf_f1 = f1_score(y_test, y_pred, average=\"weighted\")\n",
    "print(\"\\nF1 score: \", rf_f1)\n",
    "\n",
    "# Specificity calculation\n",
    "cm = confusion_matrix(y_test, y_pred)\n",
    "specificity = []\n",
    "for i in range(len(cm)):\n",
    "    tn = np.sum(cm) - np.sum(cm[i, :]) - np.sum(cm[:, i]) + cm[i, i]\n",
    "    fp = np.sum(cm[:, i]) - cm[i, i]\n",
    "    specificity.append(tn / (tn + fp))\n",
    "\n",
    "rf_specificity = np.mean(specificity)\n",
    "print(\"\\nSpecificity: \", rf_specificity)\n",
    "\n",
    "# Report classification results\n",
    "print(\"\\nRandom Forest Classification Report:\\n\", classification_report(y_test, y_pred))\n",
    "\n",
    "print(\"Classification with Random Forest is done!\")\n"
   ]
  },
  {
   "cell_type": "markdown",
   "metadata": {},
   "source": [
    "Decision Tree classifier\n",
    "Building model with Decision Tree classifier"
   ]
  },
  {
   "cell_type": "code",
   "execution_count": 31,
   "metadata": {},
   "outputs": [
    {
     "name": "stdout",
     "output_type": "stream",
     "text": [
      "\n",
      "Decision Tree Predictions (First 10): [1 0 2 1 1 0 1 2 1 1]\n"
     ]
    }
   ],
   "source": [
    "# Import Decision Tree from sklearn package\n",
    "from sklearn.tree import DecisionTreeClassifier\n",
    "\n",
    "# Initialize Decision Tree Classifier\n",
    "dt_model = DecisionTreeClassifier(random_state=42)\n",
    "\n",
    "# Fit the model with scaled training data\n",
    "dt_model.fit(X_train_scaled, y_train)\n",
    "\n",
    "# Get predictions on test data\n",
    "dt_predictions = dt_model.predict(X_test_scaled)\n",
    "\n",
    "# Predicted results\n",
    "y_pred = dt_predictions\n",
    "\n",
    "# Print first 10 predictions\n",
    "print(\"\\nDecision Tree Predictions (First 10):\", y_pred[:10])\n"
   ]
  },
  {
   "cell_type": "markdown",
   "metadata": {},
   "source": [
    "Evaluation of the performance of Decision Tree classifier\n",
    "Evaluation with the simple validation method\n",
    "\n",
    "NOTE:\n",
    "TP (True Positive) and TN (True Negative) are terms used in classification problems to evaluate model performance.\n",
    "TP (True Positive): The model correctly predicted a positive class.\n",
    "Example: If the actual label is \"Spam\" and the model predicts \"Spam\", it's a TP.\n",
    "TN (True Negative): The model correctly predicted a negative class.\n",
    "Example: If the actual label is \"Not Spam\" and the model predicts \"Not Spam\", it's a TN.\n",
    "\n",
    "Other related terms:\n",
    "    FP (False Positive): The model incorrectly predicted a positive class (Type I Error).\n",
    "    FN (False Negative): The model incorrectly predicted a negative class (Type II Error).\n",
    "    These terms are used in metrics like accuracy, precision, recall, specificity, and F1-score to evaluate classification models."
   ]
  },
  {
   "cell_type": "code",
   "execution_count": 32,
   "metadata": {},
   "outputs": [
    {
     "data": {
      "image/png": "[encoded data removed]",
      "text/plain": [
       "<Figure size 500x400 with 2 Axes>"
      ]
     },
     "metadata": {},
     "output_type": "display_data"
    },
    {
     "name": "stdout",
     "output_type": "stream",
     "text": [
      "\n",
      "Accuracy: 0.98\n",
      "\n",
      "Precision:  0.98125\n",
      "\n",
      "Recall :  0.98\n",
      "\n",
      "F1 score:  0.98\n",
      "\n",
      "Specificity:  0.9904761904761905\n",
      "\n",
      "Decision Tree Classification Report:\n",
      "               precision    recall  f1-score   support\n",
      "\n",
      "           0       1.00      1.00      1.00        19\n",
      "           1       0.94      1.00      0.97        15\n",
      "           2       1.00      0.94      0.97        16\n",
      "\n",
      "    accuracy                           0.98        50\n",
      "   macro avg       0.98      0.98      0.98        50\n",
      "weighted avg       0.98      0.98      0.98        50\n",
      "\n",
      "Classification with Decision Tree is done!\n"
     ]
    }
   ],
   "source": [
    "# Plot the confusion matrix\n",
    "plot_confusion_matrix(y_test, y_pred, \"Decision Tree Confusion Matrix\")\n",
    "\n",
    "# Accuracy: (TP+TN) / (TP+TN+FP+FN)\n",
    "dt_accuracy = accuracy_score(y_test, y_pred)\n",
    "print(\"\\nAccuracy:\", dt_accuracy)\n",
    "\n",
    "# Precision: TP / (TP+FP)\n",
    "dt_precision = precision_score(y_test, y_pred, average=\"weighted\")\n",
    "print(\"\\nPrecision: \", dt_precision)\n",
    "\n",
    "# Recall: TP / (TP+FN)\n",
    "dt_recall = recall_score(y_test, y_pred, average=\"weighted\")\n",
    "print(\"\\nRecall : \", dt_recall)\n",
    "\n",
    "# F1-score: Harmonic mean of Precision and Recall\n",
    "dt_f1 = f1_score(y_test, y_pred, average=\"weighted\")\n",
    "print(\"\\nF1 score: \", dt_f1)\n",
    "\n",
    "# Specificity calculation\n",
    "cm = confusion_matrix(y_test, y_pred)\n",
    "specificity = []\n",
    "for i in range(len(cm)):\n",
    "    tn = np.sum(cm) - np.sum(cm[i, :]) - np.sum(cm[:, i]) + cm[i, i]\n",
    "    fp = np.sum(cm[:, i]) - cm[i, i]\n",
    "    specificity.append(tn / (tn + fp))\n",
    "dt_specificity = np.mean(specificity)\n",
    "print(\"\\nSpecificity: \", dt_specificity)\n",
    "\n",
    "# Report the summary of all evaluation\n",
    "print(\"\\nDecision Tree Classification Report:\\n\", classification_report(y_test, y_pred))\n",
    "\n",
    "print(\"Classification with Decision Tree is done!\")\n"
   ]
  },
  {
   "cell_type": "markdown",
   "metadata": {},
   "source": [
    "Logistic Regression classifier\n",
    "Building model with Logistic Regression classifier"
   ]
  },
  {
   "cell_type": "code",
   "execution_count": 33,
   "metadata": {},
   "outputs": [
    {
     "name": "stdout",
     "output_type": "stream",
     "text": [
      "\n",
      "Logistic Regression Predictions (First 10): [1 0 2 1 1 0 1 2 1 1]\n"
     ]
    }
   ],
   "source": [
    "# Import Logistic Regression from sklearn package\n",
    "from sklearn.linear_model import LogisticRegression  \n",
    "\n",
    "# Logistic Regression Classifier\n",
    "lr_model = LogisticRegression(random_state=42, max_iter=200)  # Initialize model\n",
    "\n",
    "# Fit the model with scaled training data\n",
    "lr_model.fit(X_train_scaled, y_train)      \n",
    "\n",
    "# Get predictions on the test set\n",
    "lr_predictions = lr_model.predict(X_test_scaled)     \n",
    "\n",
    "# Predicted result\n",
    "y_pred = lr_predictions                               \n",
    "\n",
    "# Print first 10 predictions\n",
    "print(\"\\nLogistic Regression Predictions (First 10):\", y_pred[:10])\n"
   ]
  },
  {
   "cell_type": "markdown",
   "metadata": {},
   "source": [
    "Evaluation of the performance of Logistic Regression classifier\n",
    "Evaluation with the simple validation method"
   ]
  },
  {
   "cell_type": "code",
   "execution_count": 34,
   "metadata": {},
   "outputs": [
    {
     "data": {
      "image/png": "[encoded data removed]",
      "text/plain": [
       "<Figure size 500x400 with 2 Axes>"
      ]
     },
     "metadata": {},
     "output_type": "display_data"
    },
    {
     "name": "stdout",
     "output_type": "stream",
     "text": [
      "\n",
      "Accuracy: 0.98\n",
      "\n",
      "Precision: 0.98125\n",
      "\n",
      "Recall: 0.98\n",
      "\n",
      "F1 Score: 0.98\n",
      "\n",
      "Specificity: 0.9904761904761905\n",
      "\n",
      "Logistic Regression Classification Report:\n",
      "               precision    recall  f1-score   support\n",
      "\n",
      "           0       1.00      1.00      1.00        19\n",
      "           1       0.94      1.00      0.97        15\n",
      "           2       1.00      0.94      0.97        16\n",
      "\n",
      "    accuracy                           0.98        50\n",
      "   macro avg       0.98      0.98      0.98        50\n",
      "weighted avg       0.98      0.98      0.98        50\n",
      "\n",
      "Classification with Logistic Regression is done!\n"
     ]
    }
   ],
   "source": [
    "from sklearn.metrics import accuracy_score, precision_score, recall_score, f1_score, confusion_matrix, classification_report\n",
    "\n",
    "# Plot confusion matrix\n",
    "plot_confusion_matrix(y_test, y_pred, \"Logistic Regression Confusion Matrix\")\n",
    "\n",
    "# Accuracy: (TP+TN) / (TP+TN+FP+FN)\n",
    "lr_accuracy = accuracy_score(y_test, y_pred)\n",
    "print(\"\\nAccuracy:\", lr_accuracy)\n",
    "\n",
    "# Precision: TP / (TP + FP)\n",
    "lr_precision = precision_score(y_test, y_pred, average=\"weighted\")\n",
    "print(\"\\nPrecision:\", lr_precision)\n",
    "\n",
    "# Recall: TP / (TP + FN)\n",
    "lr_recall = recall_score(y_test, y_pred, average=\"weighted\")\n",
    "print(\"\\nRecall:\", lr_recall)\n",
    "\n",
    "# F1-score: Harmonic mean of Precision and Recall\n",
    "lr_f1 = f1_score(y_test, y_pred, average=\"weighted\")\n",
    "print(\"\\nF1 Score:\", lr_f1)\n",
    "\n",
    "# Specificity calculation\n",
    "cm = confusion_matrix(y_test, y_pred)\n",
    "specificity = []\n",
    "for i in range(len(cm)):\n",
    "    tn = np.sum(cm) - np.sum(cm[i, :]) - np.sum(cm[:, i]) + cm[i, i]\n",
    "    fp = np.sum(cm[:, i]) - cm[i, i]\n",
    "    specificity.append(tn / (tn + fp))\n",
    "\n",
    "lr_specificity = np.mean(specificity)\n",
    "print(\"\\nSpecificity:\", lr_specificity)\n",
    "\n",
    "# Classification report\n",
    "print(\"\\nLogistic Regression Classification Report:\\n\", classification_report(y_test, y_pred))\n",
    "\n",
    "print(\"Classification with Logistic Regression is done!\")\n"
   ]
  },
  {
   "cell_type": "markdown",
   "metadata": {},
   "source": [
    "No, machine learning models do not always give the same values for the same data. Here’s why:\n",
    "\n",
    "1. Randomness in Model Training\n",
    "    Random Initialization: Models like Random Forest and Decision Trees involve randomness (e.g., selecting features or splitting points).\n",
    "    Gradient Descent in Logistic Regression: Optimization algorithms may start with different initial values.\n",
    "    Stochastic Training: If models use stochastic elements (e.g., stochastic gradient descent), results can vary across runs.\n",
    "\n",
    "2. Floating-Point Precision\n",
    "    Some computations involve floating-point arithmetic, which can lead to slight variations in results.\n",
    "\n",
    "3. Differences in Hyperparameters\n",
    "    Changing random seed, learning rate, tree depth, number of estimators, etc., can lead to different results even on the same dataset.\n",
    "\n",
    "4. Data Preprocessing Variations\n",
    "    Scaling, shuffling, or missing data handling can impact the final output.\n",
    "\n",
    "When Does It Give the Same Output?\n",
    "    If you fix the random seed (random_state=42), use deterministic algorithms, and keep identical preprocessing, you’ll get the same results."
   ]
  },
  {
   "cell_type": "markdown",
   "metadata": {},
   "source": [
    "XGBoost classifier\n",
    "Building model with XGBoost classifier"
   ]
  },
  {
   "cell_type": "code",
   "execution_count": 40,
   "metadata": {},
   "outputs": [
    {
     "ename": "ModuleNotFoundError",
     "evalue": "No module named 'xgboost'",
     "output_type": "error",
     "traceback": [
      "\u001b[1;31m---------------------------------------------------------------------------\u001b[0m",
      "\u001b[1;31mModuleNotFoundError\u001b[0m                       Traceback (most recent call last)",
      "Cell \u001b[1;32mIn[40], line 2\u001b[0m\n\u001b[0;32m      1\u001b[0m \u001b[38;5;66;03m# Import XGBoost from sklearn package\u001b[39;00m\n\u001b[1;32m----> 2\u001b[0m \u001b[38;5;28;01mfrom\u001b[39;00m \u001b[38;5;21;01mxgboost\u001b[39;00m \u001b[38;5;28;01mimport\u001b[39;00m XGBClassifier  \u001b[38;5;66;03m# Import XGBoost classification model\u001b[39;00m\n\u001b[0;32m      4\u001b[0m \u001b[38;5;66;03m# XGBoost Classifier\u001b[39;00m\n\u001b[0;32m      5\u001b[0m xgb_model \u001b[38;5;241m=\u001b[39m XGBClassifier(random_state\u001b[38;5;241m=\u001b[39m\u001b[38;5;241m42\u001b[39m, eval_metric\u001b[38;5;241m=\u001b[39m\u001b[38;5;124m'\u001b[39m\u001b[38;5;124mmlogloss\u001b[39m\u001b[38;5;124m'\u001b[39m)  \u001b[38;5;66;03m# Initialize classifier\u001b[39;00m\n",
      "\u001b[1;31mModuleNotFoundError\u001b[0m: No module named 'xgboost'"
     ]
    }
   ],
   "source": [
    "# Import XGBoost from sklearn package\n",
    "from xgboost import XGBClassifier  # Import XGBoost classification model\n",
    "\n",
    "# XGBoost Classifier\n",
    "xgb_model = XGBClassifier(random_state=42, eval_metric='mlogloss')  # Initialize classifier\n",
    "\n",
    "# Note: For details about the parameters, see the XGBoost documentation\n",
    "xgb_model.fit(X_train_scaled, y_train)  # Fit the model with scaled training data\n",
    "\n",
    "xgb_predictions = xgb_model.predict(X_test_scaled)  # Get the predictions on test data\n",
    "y_pred = xgb_predictions  # Store predicted results\n",
    "\n",
    "print(\"\\nXGBoost Predictions (First 10):\", y_pred[:10])\n"
   ]
  },
  {
   "cell_type": "markdown",
   "metadata": {},
   "source": [
    "Evaluation of the performance of XGBoost classifier\n",
    "Evaluation with the simple validation method"
   ]
  },
  {
   "cell_type": "code",
   "execution_count": 41,
   "metadata": {},
   "outputs": [
    {
     "data": {
      "image/png": "[encoded data removed]",
      "text/plain": [
       "<Figure size 500x400 with 2 Axes>"
      ]
     },
     "metadata": {},
     "output_type": "display_data"
    },
    {
     "name": "stdout",
     "output_type": "stream",
     "text": [
      "\n",
      "Accuracy: 0.98\n",
      "\n",
      "Precision:  0.98125\n",
      "\n",
      "Recall:  0.98\n",
      "\n",
      "F1 score:  0.98\n",
      "\n",
      "Specificity:  0.9904761904761905\n",
      "\n",
      "XGBoost Classification Report:               precision    recall  f1-score   support\n",
      "\n",
      "           0       1.00      1.00      1.00        19\n",
      "           1       0.94      1.00      0.97        15\n",
      "           2       1.00      0.94      0.97        16\n",
      "\n",
      "    accuracy                           0.98        50\n",
      "   macro avg       0.98      0.98      0.98        50\n",
      "weighted avg       0.98      0.98      0.98        50\n",
      "\n",
      "Classification with XGBoost is done!\n"
     ]
    }
   ],
   "source": [
    "# Plot the confusion matrix for XGBoost model\n",
    "plot_confusion_matrix(y_test, y_pred, \"XGBoost Confusion Matrix\")\n",
    "\n",
    "# Now, let's get the evaluation metrics for XGBoost\n",
    "\n",
    "# Accuracy: (TP + TN) / (TP + TN + FP + FN)\n",
    "xgb_accuracy = accuracy_score(y_test, y_pred)\n",
    "print(\"\\nAccuracy:\", xgb_accuracy)\n",
    "\n",
    "# Precision: TP / (TP + FP) - The ratio of true positives to total predicted positives\n",
    "xgb_precision = precision_score(y_test, y_pred, average=\"weighted\")\n",
    "print(\"\\nPrecision: \", xgb_precision)\n",
    "\n",
    "# Recall: TP / (TP + FN) - The ratio of true positives to total actual positives\n",
    "xgb_recall = recall_score(y_test, y_pred, average=\"weighted\")\n",
    "print(\"\\nRecall: \", xgb_recall)\n",
    "\n",
    "# F1-score: Harmonic mean of Precision and Recall\n",
    "xgb_f1 = f1_score(y_test, y_pred, average=\"weighted\")\n",
    "print(\"\\nF1 score: \", xgb_f1)\n",
    "\n",
    "# Specificity calculation (TN / (TN + FP)) for each class\n",
    "cm = confusion_matrix(y_test, y_pred)  # Compute the confusion matrix\n",
    "specificity = []  # List to store specificity for each class\n",
    "\n",
    "# Loop through each class in the confusion matrix\n",
    "for i in range(len(cm)):\n",
    "    tn = np.sum(cm) - np.sum(cm[i, :]) - np.sum(cm[:, i]) + cm[i, i]  # True negatives\n",
    "    fp = np.sum(cm[:, i]) - cm[i, i]  # False positives\n",
    "    specificity.append(tn / (tn + fp))  # Calculate specificity for class i\n",
    "\n",
    "# Compute the average specificity\n",
    "xgb_specificity = np.mean(specificity)\n",
    "print(\"\\nSpecificity: \", xgb_specificity)\n",
    "\n",
    "# Report the classification metrics summary for XGBoost\n",
    "print(\"\\nXGBoost Classification Report:\", classification_report(y_test, y_pred))\n",
    "\n",
    "# Indicate that classification with XGBoost is complete\n",
    "print(\"Classification with XGBoost is done!\")\n"
   ]
  },
  {
   "cell_type": "markdown",
   "metadata": {},
   "source": [
    "Gradient Boosting classifier\n",
    "Building model with Gradient Boosting classifier"
   ]
  },
  {
   "cell_type": "code",
   "execution_count": 42,
   "metadata": {},
   "outputs": [
    {
     "name": "stdout",
     "output_type": "stream",
     "text": [
      "\n",
      "Gradient Boosting Predictions (First 10): [1 0 2 1 1 0 1 2 1 1]\n"
     ]
    }
   ],
   "source": [
    "# Import Gradient Boosting classifier\n",
    "from sklearn.ensemble import GradientBoostingClassifier\n",
    "\n",
    "# Gradient Boosting Classifier\n",
    "gb_model = GradientBoostingClassifier(random_state=42)  # Initialize the classifier\n",
    "gb_model.fit(X_train_scaled, y_train)  # Fit the model with scaled training data\n",
    "\n",
    "# Get predictions\n",
    "gb_predictions = gb_model.predict(X_test_scaled)  # Get the predictions on test data\n",
    "y_pred = gb_predictions  # Predicted result\n",
    "\n",
    "print(\"\\nGradient Boosting Predictions (First 10):\", y_pred[:10])\n"
   ]
  },
  {
   "cell_type": "markdown",
   "metadata": {},
   "source": [
    "Evaluation of the performance of Gradient Boosting classifier\n",
    "Evaluation with the simple validation method"
   ]
  },
  {
   "cell_type": "code",
   "execution_count": 43,
   "metadata": {},
   "outputs": [
    {
     "data": {
      "image/png": "[encoded data removed]",
      "text/plain": [
       "<Figure size 500x400 with 2 Axes>"
      ]
     },
     "metadata": {},
     "output_type": "display_data"
    },
    {
     "name": "stdout",
     "output_type": "stream",
     "text": [
      "\n",
      "Accuracy: 0.98\n",
      "\n",
      "Precision: 0.98125\n",
      "\n",
      "Recall: 0.98\n",
      "\n",
      "F1 Score: 0.98\n",
      "\n",
      "Specificity: 0.9904761904761905\n",
      "\n",
      "Gradient Boosting Classification Report:\n",
      "               precision    recall  f1-score   support\n",
      "\n",
      "           0       1.00      1.00      1.00        19\n",
      "           1       0.94      1.00      0.97        15\n",
      "           2       1.00      0.94      0.97        16\n",
      "\n",
      "    accuracy                           0.98        50\n",
      "   macro avg       0.98      0.98      0.98        50\n",
      "weighted avg       0.98      0.98      0.98        50\n",
      "\n",
      "Classification with Gradient Boosting is done!\n"
     ]
    }
   ],
   "source": [
    "plot_confusion_matrix(y_test, y_pred, \"Gradient Boosting Confusion Matrix\")\n",
    "\n",
    "# Now, let's get the result of Gradient Boosting evaluation\n",
    "\n",
    "# Accuracy: (TP + TN) / (TP + TN + FP + FN)\n",
    "gb_accuracy = accuracy_score(y_test, y_pred)\n",
    "print(\"\\nAccuracy:\", gb_accuracy)\n",
    "\n",
    "# Precision: TP / (TP + FP) - The ratio of true positives to total predicted positives\n",
    "gb_precision = precision_score(y_test, y_pred, average=\"weighted\")\n",
    "print(\"\\nPrecision:\", gb_precision)\n",
    "\n",
    "# Recall: TP / (TP + FN) - The ratio of true positives to total actual positives\n",
    "gb_recall = recall_score(y_test, y_pred, average=\"weighted\")\n",
    "print(\"\\nRecall:\", gb_recall)\n",
    "\n",
    "# F1-score: Harmonic mean of `Precision` and `Recall`\n",
    "gb_f1 = f1_score(y_test, y_pred, average=\"weighted\")\n",
    "print(\"\\nF1 Score:\", gb_f1)\n",
    "\n",
    "# Specificity calculation\n",
    "cm = confusion_matrix(y_test, y_pred)\n",
    "specificity = []\n",
    "for i in range(len(cm)):\n",
    "    tn = np.sum(cm) - np.sum(cm[i, :]) - np.sum(cm[:, i]) + cm[i, i]\n",
    "    fp = np.sum(cm[:, i]) - cm[i, i]\n",
    "    specificity.append(tn / (tn + fp))\n",
    "gb_specificity = np.mean(specificity)\n",
    "\n",
    "print(\"\\nSpecificity:\", gb_specificity)\n",
    "\n",
    "# Report the summary of all evaluations\n",
    "print(\"\\nGradient Boosting Classification Report:\\n\", classification_report(y_test, y_pred))\n",
    "\n",
    "print(\"Classification with Gradient Boosting is done!\")\n"
   ]
  },
  {
   "cell_type": "markdown",
   "metadata": {},
   "source": [
    "Comparative study on the Performance of Different classifiers"
   ]
  },
  {
   "cell_type": "code",
   "execution_count": 44,
   "metadata": {},
   "outputs": [
    {
     "data": {
      "image/png": "[encoded data removed]",
      "text/plain": [
       "<Figure size 1000x600 with 1 Axes>"
      ]
     },
     "metadata": {},
     "output_type": "display_data"
    }
   ],
   "source": [
    "# Plot model accuracies\n",
    "\n",
    "# Model names and their corresponding accuracies\n",
    "models = ['SVM', 'Random Forest', 'Decision Tree', 'Logistic Regression', 'XGBoost']\n",
    "accuracies = [svm_accuracy, rf_accuracy, dt_accuracy, lr_accuracy, xgb_accuracy]\n",
    "\n",
    "# Plotting\n",
    "plt.figure(figsize=(10, 6))\n",
    "\n",
    "# Set Seaborn style and color palette\n",
    "sns.set_theme(style=\"whitegrid\")\n",
    "colors = sns.color_palette(\"viridis\", len(models))\n",
    "\n",
    "# Create a bar plot for model accuracy comparison\n",
    "sns.barplot(x=models, y=accuracies, palette=colors, hue=models, dodge=False)\n",
    "\n",
    "# Set limits and labels\n",
    "plt.ylim(0, 1)\n",
    "plt.title('Model Accuracy Comparison', fontsize=16)\n",
    "plt.xlabel('Models', fontsize=12)\n",
    "plt.ylabel('Accuracy', fontsize=12)\n",
    "plt.xticks(rotation=45, fontsize=10)\n",
    "plt.yticks(fontsize=10)\n",
    "\n",
    "# Adjust layout for better visibility\n",
    "plt.tight_layout()\n",
    "plt.show()\n"
   ]
  },
  {
   "cell_type": "markdown",
   "metadata": {},
   "source": [
    "Classification and Its Types\n",
    "What is Classification?\n",
    "Classification is a type of supervised learning in machine learning where the goal is to categorize data into predefined labels or classes. It works by training a model on labeled data so that it can predict the correct class for new, unseen data.\n",
    "\n",
    "For example, in an email spam detection system, the model learns to classify emails as \"Spam\" or \"Not Spam\" based on previous labeled emails.\n",
    "\n",
    "Types of Classification\n",
    "1️⃣ Binary Classification\n",
    "The simplest form of classification with only two possible classes.\n",
    "\n",
    "Example: Spam vs. Not Spam, Disease Present vs. Not Present\n",
    "\n",
    "Algorithms: Logistic Regression, SVM, Decision Tree, Random Forest, XGBoost\n",
    "\n",
    "2️⃣ Multiclass Classification\n",
    "Involves more than two classes, but each input belongs to only one class.\n",
    "\n",
    "Example: Handwritten digit recognition (0-9), Animal species classification\n",
    "\n",
    "Algorithms: Decision Tree, Random Forest, XGBoost, Neural Networks\n",
    "\n",
    "3️⃣ Multilabel Classification\n",
    "Each input can belong to multiple classes at the same time.\n",
    "\n",
    "Example: A news article can be about both politics and sports.\n",
    "\n",
    "Algorithms: k-Nearest Neighbors (k-NN), Neural Networks, Support Vector Machines (SVM)\n",
    "\n",
    "4️⃣ Imbalanced Classification\n",
    "When one class has significantly more instances than others.\n",
    "\n",
    "Example: Fraud detection (99% transactions are genuine, 1% are fraud)\n",
    "\n",
    "Techniques Used: Oversampling, Undersampling, SMOTE (Synthetic Minority Over-sampling Technique)\n",
    "\n",
    "Common Classification Algorithms\n",
    "🔹 Logistic Regression – Best for binary classification.\n",
    "🔹 Decision Trees – Simple, interpretable, but prone to overfitting.\n",
    "🔹 Random Forest – An ensemble of decision trees for better accuracy.\n",
    "🔹 Support Vector Machine (SVM) – Works well for high-dimensional data.\n",
    "🔹 Naive Bayes – Based on probability, used for text classification.\n",
    "🔹 K-Nearest Neighbors (KNN) – Classifies based on nearest data points.\n",
    "🔹 XGBoost & Gradient Boosting – Powerful for structured data problems.\n",
    "\n",
    "Evaluation Metrics in Classification\n",
    "📌 Accuracy – Measures overall correctness.\n",
    "📌 Precision – Focuses on how many predicted positives are actually correct.\n",
    "📌 Recall – Measures how well the model finds actual positives.\n",
    "📌 F1-Score – A balance between Precision and Recall.\n",
    "📌 Confusion Matrix – Shows TP, TN, FP, and FN for analysis.\n",
    "\n",
    "Conclusion\n",
    "Classification is a fundamental machine learning task used in various domains like spam filtering, medical diagnosis, fraud detection, and sentiment analysis. The choice of algorithm depends on the nature of the problem, dataset size, and required interpretability. 🚀"
   ]
  }
 ],
 "metadata": {
  "kernelspec": {
   "display_name": "base",
   "language": "python",
   "name": "python3"
  },
  "language_info": {
   "codemirror_mode": {
    "name": "ipython",
    "version": 3
   },
   "file_extension": ".py",
   "mimetype": "text/x-python",
   "name": "python",
   "nbconvert_exporter": "python",
   "pygments_lexer": "ipython3",
   "version": "3.12.7"
  }
 },
 "nbformat": 4,
 "nbformat_minor": 2
}
