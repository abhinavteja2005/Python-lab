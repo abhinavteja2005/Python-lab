{
 "cells": [
  {
   "cell_type": "markdown",
   "metadata": {},
   "source": [
    "GOING THROUGH NUMPY QUESTIONS IN gfg"
   ]
  },
  {
   "cell_type": "code",
   "execution_count": 1,
   "metadata": {},
   "outputs": [],
   "source": [
    "import numpy as np"
   ]
  },
  {
   "cell_type": "markdown",
   "metadata": {},
   "source": [
    "How to create an empty and a full NumPy array?"
   ]
  },
  {
   "cell_type": "code",
   "execution_count": null,
   "metadata": {},
   "outputs": [
    {
     "name": "stdout",
     "output_type": "stream",
     "text": [
      "[[0. 0. 0.]\n",
      " [0. 0. 0.]]\n",
      "[[5 5 5]\n",
      " [5 5 5]]\n"
     ]
    }
   ],
   "source": [
    "np_empty = np.empty((2,3))\n",
    "print(np_empty) # random garbage value\n",
    "\n",
    "np_full = np.full((2, 3), 5)\n",
    "print(np_full)"
   ]
  },
  {
   "cell_type": "markdown",
   "metadata": {},
   "source": [
    "Create a Numpy array filled with all zeros"
   ]
  },
  {
   "cell_type": "code",
   "execution_count": 11,
   "metadata": {},
   "outputs": [
    {
     "name": "stdout",
     "output_type": "stream",
     "text": [
      "[[0 0 0]\n",
      " [0 0 0]]\n"
     ]
    }
   ],
   "source": [
    "np_zeros = np.zeros((2, 3), dtype = int)\n",
    "print(np_zeros)"
   ]
  },
  {
   "cell_type": "markdown",
   "metadata": {},
   "source": [
    "Create array filled with all ones"
   ]
  },
  {
   "cell_type": "code",
   "execution_count": null,
   "metadata": {},
   "outputs": [
    {
     "name": "stdout",
     "output_type": "stream",
     "text": [
      "[1. 1. 1.]\n"
     ]
    }
   ],
   "source": [
    "np_ones = np.ones(3) # have same syntax as np.zeros()\n",
    "print(np_ones)"
   ]
  },
  {
   "cell_type": "markdown",
   "metadata": {},
   "source": [
    "Check whether a Numpy array contains a specified row"
   ]
  },
  {
   "cell_type": "code",
   "execution_count": 14,
   "metadata": {},
   "outputs": [
    {
     "name": "stdout",
     "output_type": "stream",
     "text": [
      "[[ 1  2  3  4  5]\n",
      " [ 6  7  8  9 10]\n",
      " [11 12 13 14 15]\n",
      " [16 17 18 19 20]]\n",
      "True\n",
      "False\n",
      "False\n",
      "True\n"
     ]
    }
   ],
   "source": [
    "arr = np.array([[1, 2, 3, 4, 5], [6, 7, 8, 9, 10], [11, 12, 13, 14, 15], [16, 17, 18, 19, 20]]) \n",
    "  \n",
    "# view array \n",
    "print(arr) \n",
    "  \n",
    "# check for some lists \n",
    "print([1, 2, 3, 4, 5] in arr.tolist()) \n",
    "print([16, 17, 20, 19, 18] in arr.tolist()) \n",
    "print([3, 2, 5, -4, 5] in arr.tolist()) \n",
    "print([11, 12, 13, 14, 15] in arr.tolist()) "
   ]
  },
  {
   "cell_type": "markdown",
   "metadata": {},
   "source": [
    "How to Remove rows in Numpy array that contains non-numeric values?"
   ]
  },
  {
   "cell_type": "code",
   "execution_count": 15,
   "metadata": {},
   "outputs": [
    {
     "name": "stdout",
     "output_type": "stream",
     "text": [
      "Given array:\n",
      "[[10.5 22.5  3.8]\n",
      " [41.   nan  nan]]\n",
      "\n",
      "Remove all rows containing NaN values:\n",
      "[[10.5 22.5  3.8]]\n"
     ]
    }
   ],
   "source": [
    "# Creating a 2x3 2-D NumPy array\n",
    "n_arr = np.array([[10.5, 22.5, 3.8], [41, np.nan, np.nan]])\n",
    "\n",
    "print(\"Given array:\")\n",
    "print(n_arr)\n",
    "\n",
    "print(\"\\nRemove all rows containing NaN values:\")\n",
    "cleaned_arr = n_arr[~np.isnan(n_arr).any(axis=1)]\n",
    "print(cleaned_arr)"
   ]
  },
  {
   "cell_type": "markdown",
   "metadata": {},
   "source": [
    "Breakdown of above code\n",
    "Step-by-Step Breakdown\n",
    "1. np.isnan(n_arr)\n",
    "This returns a boolean mask of the same shape as n_arr, where each element is True if it's NaN and False otherwise.\n",
    "2. .any(axis=1)\n",
    "This checks each row (axis=1) to see if it contains any True (NaN values).\n",
    "It returns a 1D boolean array, where True means the row has at least one NaN.\n",
    "3. ~ (Bitwise NOT)\n",
    "The ~ operator inverts the boolean values:\n",
    "True → False\n",
    "False → True\n",
    "This means rows with NaN become False, and rows without NaN become True.\n",
    "4. n_arr[...] (Indexing)\n",
    "This selects only the rows where the condition is True, i.e., rows that don’t contain NaN."
   ]
  },
  {
   "cell_type": "markdown",
   "metadata": {},
   "source": [
    "Find the most frequent value in a NumPy array\n",
    "idea:\n",
    "    Create a NumPy array.\n",
    "    Apply bincount() method of NumPy to get the count of occurrences of each element in the array.\n",
    "    The n, apply argmax() method to get the value having a maximum number of occurrences(frequency)."
   ]
  },
  {
   "cell_type": "code",
   "execution_count": 16,
   "metadata": {},
   "outputs": [
    {
     "name": "stdout",
     "output_type": "stream",
     "text": [
      "Original array:\n",
      "[1 2 3 4 5 1 2 1 1 1]\n",
      "Most frequent value in the above array:\n",
      "1\n"
     ]
    }
   ],
   "source": [
    "x = np.array([1,2,3,4,5,1,2,1,1,1]) \n",
    "print(\"Original array:\") \n",
    "print(x) \n",
    "  \n",
    "print(\"Most frequent value in the above array:\") \n",
    "print(np.bincount(x).argmax())"
   ]
  },
  {
   "cell_type": "markdown",
   "metadata": {},
   "source": [
    "How to compare two NumPy arrays?"
   ]
  },
  {
   "cell_type": "code",
   "execution_count": 17,
   "metadata": {},
   "outputs": [
    {
     "name": "stdout",
     "output_type": "stream",
     "text": [
      "Array a:  [101  99  87]\n",
      "Array b:  [897  97 111]\n",
      "a > b\n",
      "[False  True False]\n",
      "a >= b\n",
      "[False  True False]\n",
      "a < b\n",
      "[ True False  True]\n",
      "a <= b\n",
      "[ True False  True]\n"
     ]
    }
   ],
   "source": [
    "a = np.array([101, 99, 87])\n",
    "b = np.array([897, 97, 111])\n",
    " \n",
    "print(\"Array a: \", a)\n",
    "print(\"Array b: \", b)\n",
    " \n",
    "print(\"a > b\")\n",
    "print(np.greater(a, b))\n",
    " \n",
    "print(\"a >= b\")\n",
    "print(np.greater_equal(a, b))\n",
    " \n",
    "print(\"a < b\")\n",
    "print(np.less(a, b))\n",
    " \n",
    "print(\"a <= b\")\n",
    "print(np.less_equal(a, b))"
   ]
  },
  {
   "cell_type": "markdown",
   "metadata": {},
   "source": [
    "np.moveaxis() is used to reorder the axes of an array. It does not modify the data but simply changes how the axes are indexed.\n",
    "\n",
    "Syntax: np.moveaxis(array, source, destination)\n",
    "array: The input NumPy array.\n",
    "source: The index of the axis you want to move.\n",
    "destination: The index where you want to place that axis.\n"
   ]
  },
  {
   "cell_type": "code",
   "execution_count": 18,
   "metadata": {},
   "outputs": [
    {
     "name": "stdout",
     "output_type": "stream",
     "text": [
      "(2, 4, 3)\n",
      "(4, 2, 3)\n"
     ]
    }
   ],
   "source": [
    "arr = np.zeros((2, 3, 4))  # Shape (2, 3, 4)\n",
    "\n",
    "# Swap axis 1 (second) and axis 2 (third)\n",
    "swapped_arr = np.moveaxis(arr, 1, 2)\n",
    "print(swapped_arr.shape)  # Output: (2, 4, 3)\n",
    "\n",
    "arr = np.ones((2, 3, 4))  # Shape (2, 3, 4)\n",
    "\n",
    "# Move last axis (-1) to the first position (0)\n",
    "new_arr = np.moveaxis(arr, -1, 0)\n",
    "print(new_arr.shape)  # Output: (4, 2, 3)"
   ]
  },
  {
   "cell_type": "markdown",
   "metadata": {},
   "source": [
    "Numpy count_nonzero method"
   ]
  },
  {
   "cell_type": "code",
   "execution_count": 19,
   "metadata": {},
   "outputs": [
    {
     "name": "stdout",
     "output_type": "stream",
     "text": [
      "6\n"
     ]
    }
   ],
   "source": [
    "arr = [[0, 1, 2, 3, 0], [0, 5, 6, 0, 7]] \n",
    "  \n",
    "gfg = np.count_nonzero(arr) \n",
    "  \n",
    "print (gfg)  "
   ]
  },
  {
   "cell_type": "markdown",
   "metadata": {},
   "source": [
    "List Slicing"
   ]
  },
  {
   "cell_type": "markdown",
   "metadata": {},
   "source": [
    "1D ARRAY"
   ]
  },
  {
   "cell_type": "code",
   "execution_count": 20,
   "metadata": {},
   "outputs": [
    {
     "name": "stdout",
     "output_type": "stream",
     "text": [
      "[2 3 4 5]\n",
      "[0 1 2 3 4]\n",
      "[4 5 6 7 8 9]\n",
      "[0 2 4 6 8]\n",
      "[9 8 7 6 5 4 3 2 1 0]\n"
     ]
    }
   ],
   "source": [
    "arr = np.array([0, 1, 2, 3, 4, 5, 6, 7, 8, 9])\n",
    "\n",
    "print(arr[2:6])    # [2 3 4 5]\n",
    "print(arr[:5])     # [0 1 2 3 4]\n",
    "print(arr[4:])     # [4 5 6 7 8 9]\n",
    "print(arr[::2])    # [0 2 4 6 8] (Every 2nd element)\n",
    "print(arr[::-1])   # [9 8 7 6 5 4 3 2 1 0] (Reverse)\n"
   ]
  },
  {
   "cell_type": "markdown",
   "metadata": {},
   "source": [
    "2D array"
   ]
  },
  {
   "cell_type": "code",
   "execution_count": 21,
   "metadata": {},
   "outputs": [
    {
     "name": "stdout",
     "output_type": "stream",
     "text": [
      "[[ 6  7]\n",
      " [10 11]]\n",
      "[1 5 9]\n",
      "[[1 2]\n",
      " [5 6]]\n",
      "[[ 6  7]\n",
      " [10 11]]\n",
      "[[ 0  2]\n",
      " [ 4  6]\n",
      " [ 8 10]]\n",
      "[  0   1 100 101 102   5   6   7   8   9]\n"
     ]
    }
   ],
   "source": [
    "matrix = np.array([[ 0,  1,  2,  3], [ 4,  5,  6,  7], [ 8,  9, 10, 11]])\n",
    "\n",
    "print(matrix[1:, 2:])  # Extract rows 1 onwards & columns 2 onwards\n",
    "# [[ 6  7]\n",
    "#  [10 11]]\n",
    "\n",
    "print(matrix[:, 1])    # Second column: [1 5 9]\n",
    "\n",
    "print(matrix[0:2, 1:3])  # Extract sub-matrix from row 0-1, column 1-2\n",
    "# [[1 2]\n",
    "#  [5 6]]\n",
    "print(matrix[-2:, -2:])  # Last 2 rows, last 2 columns\n",
    "# [[ 6  7]\n",
    "#  [10 11]]\n",
    "print(matrix[:, ::2])  # Every alternate column\n",
    "# [[ 0  2]\n",
    "#  [ 4  6]\n",
    "#  [ 8 10]]\n",
    "arr[2:5] = [100, 101, 102]  \n",
    "print(arr)  # [0 1 100 101 102 5 6 7 8 9]\n",
    "# Remove the second row (index 1)\n",
    "new_matrix = np.delete(matrix, 1, axis=0)\n",
    "\n",
    "# Remove the third column (index 2)\n",
    "new_matrix = np.delete(matrix, 2, axis=1)\n"
   ]
  }
 ],
 "metadata": {
  "kernelspec": {
   "display_name": "base",
   "language": "python",
   "name": "python3"
  },
  "language_info": {
   "codemirror_mode": {
    "name": "ipython",
    "version": 3
   },
   "file_extension": ".py",
   "mimetype": "text/x-python",
   "name": "python",
   "nbconvert_exporter": "python",
   "pygments_lexer": "ipython3",
   "version": "3.12.7"
  }
 },
 "nbformat": 4,
 "nbformat_minor": 2
}
