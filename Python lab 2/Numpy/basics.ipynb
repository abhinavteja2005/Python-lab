{
 "cells": [
  {
   "cell_type": "markdown",
   "metadata": {},
   "source": [
    "Basics of numpy"
   ]
  },
  {
   "cell_type": "code",
   "execution_count": 2,
   "metadata": {},
   "outputs": [],
   "source": [
    "import numpy as np\n"
   ]
  },
  {
   "cell_type": "code",
   "execution_count": null,
   "metadata": {},
   "outputs": [
    {
     "name": "stdout",
     "output_type": "stream",
     "text": [
      "Array :  [1 2 3 4]\n"
     ]
    }
   ],
   "source": [
    "# we created an 1D array\n",
    "array = np.array([1, 2, 3, 4])\n",
    "print(\"Array : \", array)"
   ]
  },
  {
   "cell_type": "code",
   "execution_count": 6,
   "metadata": {},
   "outputs": [
    {
     "name": "stdout",
     "output_type": "stream",
     "text": [
      "The 2 x 3 array : \n",
      " [[0. 0. 0.]\n",
      " [0. 0. 0.]]\n"
     ]
    }
   ],
   "source": [
    "# creating an array of size 2 x 3 with all zeroes in it\n",
    "array2_3 = np.zeros((2, 3))\n",
    "print(\"The 2 x 3 array : \\n\", array2_3)"
   ]
  },
  {
   "cell_type": "code",
   "execution_count": 8,
   "metadata": {},
   "outputs": [
    {
     "name": "stdout",
     "output_type": "stream",
     "text": [
      "The ones array : \n",
      " [[1. 1. 1.]\n",
      " [1. 1. 1.]]\n"
     ]
    }
   ],
   "source": [
    "# similarly with 1s\n",
    "ones_array = np.ones((2, 3))\n",
    "print(\"The ones array : \\n\", ones_array)\n"
   ]
  },
  {
   "cell_type": "code",
   "execution_count": 9,
   "metadata": {},
   "outputs": [
    {
     "name": "stdout",
     "output_type": "stream",
     "text": [
      "Range array:  [0 2 4 6 8]\n"
     ]
    }
   ],
   "source": [
    "#  Generating an array from 0 to 9 with a step of 2\n",
    "range_array = np.arange(0, 10, 2)\n",
    "print(\"Range array: \", range_array)"
   ]
  },
  {
   "cell_type": "code",
   "execution_count": null,
   "metadata": {},
   "outputs": [
    {
     "name": "stdout",
     "output_type": "stream",
     "text": [
      "Linspace array:  [0.  0.5 1.  1.5 2. ]\n"
     ]
    }
   ],
   "source": [
    "#  Generating 5 evenly spaced values between 0 and 2\n",
    "linspace_array = np.linspace(0, 2, 5)\n",
    "print(\"Linspace array: \", linspace_array)"
   ]
  },
  {
   "cell_type": "code",
   "execution_count": 13,
   "metadata": {},
   "outputs": [
    {
     "name": "stdout",
     "output_type": "stream",
     "text": [
      "Original array :  [1 2 3 4]\n",
      "Reshaped array :\n",
      " [[1 2]\n",
      " [3 4]]\n"
     ]
    }
   ],
   "source": [
    "# Reshaping a 1D array into 2D array\n",
    "original_array = np.array([1, 2, 3, 4])\n",
    "reshaped_array = original_array.reshape(2, 2)\n",
    "print(\"Original array : \", original_array)\n",
    "print(\"Reshaped array :\\n\", reshaped_array)\n"
   ]
  },
  {
   "cell_type": "code",
   "execution_count": 14,
   "metadata": {},
   "outputs": [
    {
     "name": "stdout",
     "output_type": "stream",
     "text": [
      "Mean value:  3.5\n",
      "Median data:  3.5\n",
      "Standard deviation:  1.707825127659933\n"
     ]
    }
   ],
   "source": [
    "# Calculating the statistics of an array\n",
    "data = np.array([1, 2, 3, 4, 5, 6])\n",
    "# mean\n",
    "mean_data = np.mean(data)\n",
    "print(\"Mean value: \", mean_data)\n",
    "\n",
    "# median\n",
    "median_data = np.median(data)\n",
    "print(\"Median data: \", median_data)\n",
    "\n",
    "std_dev_data = np.std(data)\n",
    "print(\"Standard deviation: \", std_dev_data)\n",
    "\n",
    "\n"
   ]
  },
  {
   "cell_type": "code",
   "execution_count": 16,
   "metadata": {},
   "outputs": [
    {
     "name": "stdout",
     "output_type": "stream",
     "text": [
      "Sum :  20\n",
      "Max :  6\n",
      "Min :  1\n",
      "Sorted Array :  [1 2 3 4 4 6]\n"
     ]
    }
   ],
   "source": [
    "# Normal arithmetics of an array\n",
    "A = np.array([6, 4, 2, 4, 1, 3])\n",
    "\n",
    "# sum\n",
    "sum_A = np.sum(A)\n",
    "print(\"Sum : \", sum_A)\n",
    "\n",
    "# max\n",
    "max_A = np.max(A)\n",
    "print(\"Max : \", max_A)\n",
    "\n",
    "# min\n",
    "min_A = np.min(A)\n",
    "print(\"Min : \", min_A)\n",
    "\n",
    "# sort\n",
    "sorted_A = np.sort(A)\n",
    "print(\"Sorted Array : \", sorted_A)\n",
    "\n"
   ]
  },
  {
   "cell_type": "code",
   "execution_count": 17,
   "metadata": {},
   "outputs": [
    {
     "name": "stdout",
     "output_type": "stream",
     "text": [
      "Random Array:\n",
      " [[0.35472342 0.19462547]\n",
      " [0.88302795 0.01536602]]\n"
     ]
    }
   ],
   "source": [
    "# generating random number of size 2 x 2\n",
    "rand_A = np.random.rand(2, 2)\n",
    "print(\"Random Array:\\n\", rand_A)\n"
   ]
  },
  {
   "cell_type": "code",
   "execution_count": 18,
   "metadata": {},
   "outputs": [
    {
     "name": "stdout",
     "output_type": "stream",
     "text": [
      "Solution:  [2. 3.]\n"
     ]
    }
   ],
   "source": [
    "# Solving a linear equation AX = B\n",
    "A = np.array([[3, 1], [1, 2]])\n",
    "B = np.array([9, 8])\n",
    "solution = np.linalg.solve(A, B)\n",
    "print(\"Solution: \", solution)\n"
   ]
  },
  {
   "cell_type": "code",
   "execution_count": 20,
   "metadata": {},
   "outputs": [
    {
     "name": "stdout",
     "output_type": "stream",
     "text": [
      "Array saved to array.npy\n",
      "Loaded Array: [1 2 3 4 5 6]\n"
     ]
    }
   ],
   "source": [
    "#File operations\n",
    "\n",
    "# Saving a file\n",
    "array = np.array([1, 2 , 3, 4, 5, 6])\n",
    "np.save('array.npy', array)\n",
    "print(\"Array saved to array.npy\")\n",
    "\n",
    "#Loading an array from file\n",
    "loaded_array = np.load('array.npy')\n",
    "print(\"Loaded Array:\", loaded_array) "
   ]
  }
 ],
 "metadata": {
  "kernelspec": {
   "display_name": "base",
   "language": "python",
   "name": "python3"
  },
  "language_info": {
   "codemirror_mode": {
    "name": "ipython",
    "version": 3
   },
   "file_extension": ".py",
   "mimetype": "text/x-python",
   "name": "python",
   "nbconvert_exporter": "python",
   "pygments_lexer": "ipython3",
   "version": "3.12.7"
  }
 },
 "nbformat": 4,
 "nbformat_minor": 2
}
